{
 "cells": [
  {
   "cell_type": "code",
   "execution_count": 162,
   "metadata": {},
   "outputs": [],
   "source": [
    "import numpy as np\n",
    "import pandas as pd\n",
    "import matplotlib.pyplot as plt\n",
    "import networkx as nx\n"
   ]
  },
  {
   "cell_type": "code",
   "execution_count": 163,
   "metadata": {},
   "outputs": [],
   "source": [
    "maze =[(2,4),(4,5),(1,5),(5,6),(3,4)]\n"
   ]
  },
  {
   "cell_type": "code",
   "execution_count": 164,
   "metadata": {},
   "outputs": [],
   "source": [
    "#  Graph only  visualization"
   ]
  },
  {
   "cell_type": "code",
   "execution_count": 165,
   "metadata": {},
   "outputs": [
    {
     "data": {
      "text/plain": [
       "{2: Text(0.09237096481366103, -0.3056239782379805, '2'),\n",
       " 4: Text(0.3387244956105333, 0.25886181076075737, '4'),\n",
       " 5: Text(-0.34713185025729315, -0.07800781098244026, '5'),\n",
       " 1: Text(0.0024864344867836148, -0.8119769024916264, '1'),\n",
       " 6: Text(-1.0, 0.23133622316121577, '6'),\n",
       " 3: Text(0.9135499553463152, 0.7054106577900738, '3')}"
      ]
     },
     "execution_count": 165,
     "metadata": {},
     "output_type": "execute_result"
    },
    {
     "data": {
      "image/png": "[encoded data removed]",
      "text/plain": [
       "<Figure size 432x288 with 1 Axes>"
      ]
     },
     "metadata": {
      "needs_background": "light"
     },
     "output_type": "display_data"
    }
   ],
   "source": [
    "G=nx.Graph()\n",
    "G.add_edges_from(maze)\n",
    "pos = nx.spring_layout(G)\n",
    "nx.draw_networkx_nodes(G,pos)\n",
    "nx.draw_networkx_edges(G,pos)\n",
    "nx.draw_networkx_labels(G,pos)"
   ]
  },
  {
   "cell_type": "code",
   "execution_count": 166,
   "metadata": {},
   "outputs": [],
   "source": [
    "class ReinforcementLearning:\n",
    "    \n",
    "    def __init__(self,learning_rate=0.1,gama=0.8,size=6,destination=6,iteration=10):\n",
    "        self.gama=gama\n",
    "        self.learning_rate=learning_rate\n",
    "        # intializing Q and R(Reward table )\n",
    "        self.Q =np.zeros((size,size))\n",
    "        # let long the row is state , along the columns is action\n",
    "        self.R =np.ones((size,size))*-1 \n",
    "        self.value=0\n",
    "        self.size=size\n",
    "        self.destination=destination\n",
    "        self.iteration=iteration\n",
    "        print('you have set:: learning_rate={} ,gama={}, size={}, destination={}, iteration {},  \\\n",
    "                              '.format(learning_rate, gama,size,destination,iteration))\n",
    "    \n",
    "    # maze is [(2,4),(4,5),(1,5),(5,6),(3,4)] points \n",
    "    def fit(self,maze):\n",
    "        #number of point in graph         \n",
    "        self.value=[]\n",
    "        self.update_Reward_matrix(maze)\n",
    "        for i in range(1,self.iteration):\n",
    "            intial_state = np.random.randint(low=0,high=self.Q.shape[0],size=1)\n",
    "            # compute Q for one state\n",
    "            self.avialable_action(intial_state[0])\n",
    "            self.value.append(np.sum(self.Q/np.max(self.Q)*100) if np.max(self.Q)>0 else 0 )\n",
    "        return self.Q/np.max(self.Q)*100\n",
    "    \n",
    "    def plot_learning(self):\n",
    "        plt.plot(self.value)\n",
    "        \n",
    "            \n",
    "    def avialable_action(self,state):\n",
    "        # First optimal action is moving to final state \n",
    "        Available_action = np.where(self.R[state,:]>-1) # 4, 5\n",
    "        # Q-LEARNING\n",
    "        for action in Available_action[0]:\n",
    "            # action by note x to sate y and max(Q(next sate, all actions)\n",
    "            self.Q[action][state]=(1-self.learning_rate)*(self.R[action][state]) + \\\n",
    "                                    self.learning_rate*(self.R[action][state]+ \\\n",
    "                                    np.max(self.Q[state,:])*self.gama)\n",
    "\n",
    "    \n",
    "    def test_optimal_path(self,rate_postion=3):\n",
    "        # best path\n",
    "        if rate_postion<=0 or rate_postion>self.size:\n",
    "            print(\"position = {} does not exits, change rate_postion\".format(rate_postion))\n",
    "            return\n",
    "        path =[]\n",
    "        path.append(rate_postion)\n",
    "        pre_position =rate_postion\n",
    "        while rate_postion!=self.destination :\n",
    "            Avialble_path = self.Q[rate_postion-1,:]\n",
    "            # next position \n",
    "            rate_postion = np.argmax(Avialble_path)+1\n",
    "            # update path\n",
    "            path.append(rate_postion)\n",
    "            if pre_position==rate_postion:\n",
    "                print(\"path does not exits\")\n",
    "                break\n",
    "            pre_position=rate_postion\n",
    "        return path\n",
    "    \n",
    "    def all_path(self):\n",
    "        for rate_postion in range(self.size):\n",
    "            print(\" From {} to {} is optimal path :: {}\".format(rate_postion,self.destination,\n",
    "                                          self.test_optimal_path(rate_postion)))\n",
    "\n",
    "    def update_Reward_matrix(self,maze):\n",
    "        '''\n",
    "        1) -1 IF NO PATH \n",
    "        2) 0 PATH EXITS BUT NOT REACH DESTINATION\n",
    "        3) 100 IF REACH DESTINATION\n",
    "        '''\n",
    "        for point in maze:\n",
    "            #  path node\n",
    "            first =point[0]\n",
    "            second=point[1]\n",
    "\n",
    "            if second==self.destination:\n",
    "                self.R[first-1][self.destination-1] =100  # third rule\n",
    "                self.R[self.destination-1][self.destination-1] =100 # call itself\n",
    "                self.R[self.destination-1][first-1]=0    # away fromdestination\n",
    "            else:\n",
    "                self.R[first-1][second-1] =0  #  secoud  rule\n",
    "                self.R[second-1][first-1]=0\n"
   ]
  },
  {
   "cell_type": "code",
   "execution_count": 167,
   "metadata": {},
   "outputs": [
    {
     "name": "stdout",
     "output_type": "stream",
     "text": [
      "you have set:: learning_rate=1 ,gama=0.8, size=6, destination=6, iteration 700,                                \n"
     ]
    }
   ],
   "source": [
    "# default learning rate is 0.1 can set value as need \n",
    "RL= ReinforcementLearning(learning_rate=1, gama=0.8, size=6,destination=6,iteration =700)"
   ]
  },
  {
   "cell_type": "code",
   "execution_count": 168,
   "metadata": {},
   "outputs": [
    {
     "data": {
      "text/plain": [
       "array([[  0.        ,   0.        ,   0.        ,   0.        ,\n",
       "         80.        ,   0.        ],\n",
       "       [  0.        ,   0.        ,   0.        ,  63.99999998,\n",
       "          0.        ,   0.        ],\n",
       "       [  0.        ,   0.        ,   0.        ,  63.99999998,\n",
       "          0.        ,   0.        ],\n",
       "       [  0.        ,  51.19999999,  51.19999999,   0.        ,\n",
       "         80.        ,   0.        ],\n",
       "       [ 63.99999998,   0.        ,   0.        ,  63.99999998,\n",
       "          0.        , 100.        ],\n",
       "       [  0.        ,   0.        ,   0.        ,   0.        ,\n",
       "         80.        , 100.        ]])"
      ]
     },
     "execution_count": 168,
     "metadata": {},
     "output_type": "execute_result"
    }
   ],
   "source": [
    "RL.fit(maze)"
   ]
  },
  {
   "cell_type": "code",
   "execution_count": 169,
   "metadata": {},
   "outputs": [
    {
     "data": {
      "image/png": "[encoded data removed]",
      "text/plain": [
       "<Figure size 432x288 with 1 Axes>"
      ]
     },
     "metadata": {
      "needs_background": "light"
     },
     "output_type": "display_data"
    }
   ],
   "source": [
    "RL.plot_learning()"
   ]
  },
  {
   "cell_type": "code",
   "execution_count": 170,
   "metadata": {},
   "outputs": [],
   "source": [
    "# test with diff value"
   ]
  },
  {
   "cell_type": "code",
   "execution_count": 171,
   "metadata": {},
   "outputs": [
    {
     "data": {
      "text/plain": [
       "[1, 5, 6]"
      ]
     },
     "execution_count": 171,
     "metadata": {},
     "output_type": "execute_result"
    }
   ],
   "source": [
    "rate_postion=1\n",
    "RL.test_optimal_path(rate_postion)"
   ]
  },
  {
   "cell_type": "code",
   "execution_count": 172,
   "metadata": {},
   "outputs": [
    {
     "name": "stdout",
     "output_type": "stream",
     "text": [
      "position = 0 does not exits, change rate_postion\n",
      " From 0 to 6 is optimal path :: None\n",
      " From 1 to 6 is optimal path :: [1, 5, 6]\n",
      " From 2 to 6 is optimal path :: [2, 4, 5, 6]\n",
      " From 3 to 6 is optimal path :: [3, 4, 5, 6]\n",
      " From 4 to 6 is optimal path :: [4, 5, 6]\n",
      " From 5 to 6 is optimal path :: [5, 6]\n"
     ]
    }
   ],
   "source": [
    "RL.all_path()"
   ]
  },
  {
   "cell_type": "code",
   "execution_count": 173,
   "metadata": {},
   "outputs": [
    {
     "data": {
      "image/png": "[encoded data removed]",
      "text/plain": [
       "<Figure size 432x288 with 1 Axes>"
      ]
     },
     "metadata": {
      "needs_background": "light"
     },
     "output_type": "display_data"
    }
   ],
   "source": [
    "nx.draw_networkx_nodes(G,pos)\n",
    "nx.draw_networkx_edges(G,pos)\n",
    "nx.draw_networkx_labels(G,pos)\n",
    "plt.show()"
   ]
  },
  {
   "cell_type": "code",
   "execution_count": null,
   "metadata": {},
   "outputs": [],
   "source": []
  },
  {
   "cell_type": "code",
   "execution_count": null,
   "metadata": {},
   "outputs": [],
   "source": []
  },
  {
   "cell_type": "code",
   "execution_count": null,
   "metadata": {},
   "outputs": [],
   "source": []
  }
 ],
 "metadata": {
  "kernelspec": {
   "display_name": "Python 3",
   "language": "python",
   "name": "python3"
  },
  "language_info": {
   "codemirror_mode": {
    "name": "ipython",
    "version": 3
   },
   "file_extension": ".py",
   "mimetype": "text/x-python",
   "name": "python",
   "nbconvert_exporter": "python",
   "pygments_lexer": "ipython3",
   "version": "3.7.3"
  }
 },
 "nbformat": 4,
 "nbformat_minor": 2
}
